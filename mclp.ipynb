{
 "cells": [
  {
   "cell_type": "code",
   "execution_count": null,
   "id": "1b5af2fa",
   "metadata": {},
   "outputs": [],
   "source": [
    "import geopandas as gpd\n",
    "import geopandas\n",
    "import matplotlib.pyplot as plt\n",
    "import matplotlib as mpl\n",
    "import numpy as np\n",
    "import platform\n",
    "from matplotlib import font_manager, rc\n",
    "import pandas as pd\n",
    "import folium\n",
    "import branca\n",
    "from shapely.geometry.point import Point\n",
    "\n",
    "if platform.system() == 'Windows':\n",
    "    font_name = font_manager.FontProperties(fname=\"c:/Windows/Fonts/malgun.ttf\").get_name()\n",
    "    rc('font', family=font_name)\n",
    "else:    \n",
    "    rc('font', family='AppleGothic')"
   ]
  },
  {
   "cell_type": "code",
   "execution_count": null,
   "id": "f0dd91db",
   "metadata": {},
   "outputs": [],
   "source": [
    "not_smoke_locate = pd.read_csv('./data/강동구_금연구역.csv', encoding='cp949')\n",
    "not_smoke_locate.head(2)"
   ]
  },
  {
   "cell_type": "code",
   "execution_count": null,
   "id": "f5827967",
   "metadata": {},
   "outputs": [],
   "source": [
    "r = 71\n",
    "not_smoke_locate['geom'] = not_smoke_locate.apply(lambda r: Point(r['경도'], r['위도']), axis=1)\n",
    "gdf = gpd.GeoDataFrame(not_smoke_locate, geometry='geom', crs='epsg:4326')\n",
    "gdf_flat = gdf.to_crs('epsg:6347')\n",
    "gdf_flat['geom'] = gdf_flat.geometry.buffer(r)\n",
    "gdf = gdf_flat.to_crs('epsg:4326')\n",
    "gdf.head(2)"
   ]
  },
  {
   "cell_type": "code",
   "execution_count": null,
   "id": "a37adab0",
   "metadata": {},
   "outputs": [],
   "source": [
    "u = gdf.iloc[0,3]\n",
    "for _, row in gdf.iterrows():\n",
    "    u = u.union(row['geom'])\n",
    "\n",
    "lats = np.array(gdf['위도'])\n",
    "lons = np.array(gdf['경도'])"
   ]
  },
  {
   "cell_type": "code",
   "execution_count": null,
   "id": "db041ba4",
   "metadata": {},
   "outputs": [],
   "source": [
    "r2=150\n",
    "child = pd.read_csv('./data/어린이보호구역.csv',\n",
    "                  encoding='cp949',\n",
    "                   sep=\",\")\n",
    "child['geom'] = child.apply(lambda r2: Point(r2['x좌표'], r2['y좌표']), axis=1)\n",
    "ch_gdf = gpd.GeoDataFrame(child, geometry='geom', crs='epsg:4326')\n",
    "ch_gdf_flat = ch_gdf.to_crs('epsg:5179')\n",
    "ch_gdf_flat['geom'] = ch_gdf_flat.geometry.buffer(r2)\n",
    "ch_gdf = ch_gdf_flat.to_crs('epsg:4326')"
   ]
  },
  {
   "cell_type": "code",
   "execution_count": null,
   "id": "42394fc4",
   "metadata": {
    "scrolled": true
   },
   "outputs": [],
   "source": [
    "ch_u = ch_gdf.iloc[0,3]\n",
    "for _, row in gdf.iterrows():\n",
    "    ch_u = ch_u.union(row['geom'])\n",
    "\n",
    "ch_lats = np.array(ch_gdf['y좌표'])\n",
    "ch_lons = np.array(ch_gdf['x좌표'])"
   ]
  },
  {
   "cell_type": "code",
   "execution_count": null,
   "id": "fca4bd46",
   "metadata": {},
   "outputs": [],
   "source": [
    "lat_c = '37.554835980736'\n",
    "lon_c = '127.15084114972'\n",
    "\n",
    "m = folium.Map([lat_c, lon_c], zoom_start = 13)\n",
    "for lat, lon in zip(lats, lons):\n",
    "    folium.Circle(location = [lat, lon], radius = r, color='black', fill_color = 'purple', weight=1).add_to(m)\n",
    "for lat, lon in zip(ch_lats, ch_lons):\n",
    "    folium.Circle(location = [lat, lon], radius = r2, color='black', fill_color = 'red', weight=1).add_to(m)\n",
    "m.save('./map/non_smoke_area.html')\n",
    "m"
   ]
  },
  {
   "cell_type": "code",
   "execution_count": null,
   "id": "38574341",
   "metadata": {},
   "outputs": [],
   "source": [
    "nlsp = geopandas.read_file('./data/nlsp_021001001.shp',encoding = 'utf8')\n",
    "nlsp.head(2)"
   ]
  },
  {
   "cell_type": "code",
   "execution_count": null,
   "id": "394b48c8",
   "metadata": {},
   "outputs": [],
   "source": [
    "nlsp = nlsp.drop(columns=['val'])\n",
    "nlsp = nlsp.to_crs(epsg=4326)\n",
    "nlsp = nlsp.fillna(0)\n",
    "nlsp.head(2)"
   ]
  },
  {
   "cell_type": "code",
   "execution_count": null,
   "id": "d295c2f3",
   "metadata": {},
   "outputs": [],
   "source": [
    "def cal_area(poly, file):\n",
    "    area = poly.area\n",
    "    intersection = poly.intersection(file).area\n",
    "    return intersection / area"
   ]
  },
  {
   "cell_type": "code",
   "execution_count": null,
   "id": "aed4f2cf",
   "metadata": {
    "scrolled": false
   },
   "outputs": [],
   "source": [
    "m2 = folium.Map([lat_c, lon_c], zoom_start = 13)\n",
    "for _, row in nlsp.iterrows():\n",
    "    value = 1-cal_area(row['geometry'], u)-cal_area(row['geometry'], ch_u)\n",
    "    sim_geo = gpd.GeoSeries(row['geometry'])\n",
    "    geo_j = sim_geo.to_json()\n",
    "    color = plt.cm.OrRd(value)\n",
    "    color = mpl.colors.to_hex(color)\n",
    "    \n",
    "    geo_j = folium.GeoJson(data=geo_j,\n",
    "                        style_function=lambda feature, color=color: {\n",
    "                                                                        'fillColor': color,\n",
    "                                                                        'color':\"black\",\n",
    "                                                                        'weight': 2,\n",
    "                                                                        'dashArray': '5, 5',\n",
    "                                                                        'fillOpacity': 0.8,\n",
    "                                                                    })\n",
    "\n",
    "\n",
    "    folium.Popup(f'{value:.3f}').add_to(geo_j)\n",
    "    geo_j.add_to(m2)\n",
    "\n",
    "colormap = branca.colormap.linear.OrRd_06.scale(0, 1)\n",
    "colormap = colormap.to_step(index=np.linspace(0, 1, 1000))\n",
    "colormap.caption = 'Area Ratio NOT Covered by Non Smoke Area'\n",
    "colormap.add_to(m2)\n",
    "m2.save('./map/smoke_area.html')\n",
    "m2"
   ]
  },
  {
   "cell_type": "markdown",
   "id": "e425b1a2",
   "metadata": {},
   "source": [
    "**$w_i = lbl \\times AreaRatio \\times restaurant \\times bar \\times academy $**\n",
    "\n",
    "- $w_i$ : 수요량\n",
    "- $lbl$ : 주거 인구 비례\n",
    "- $restaurant$ : 식당가\n",
    "- $bar$ : 유흥주점\n",
    "- $academy$ : 학원\n",
    "- $AreaRatio$ : 커버되지않은 면적 비율 (0~1)"
   ]
  },
  {
   "cell_type": "code",
   "execution_count": null,
   "id": "59b15511",
   "metadata": {},
   "outputs": [],
   "source": [
    "r_100=71\n",
    "restaurant = pd.read_csv('./data/conv_일반음식점.csv',\n",
    "                    encoding='cp949',\n",
    "                    sep=\",\")\n",
    "restaurant['geom'] = restaurant.apply(lambda r_100: Point(r_100['경도'], r_100['위도']), axis=1)\n",
    "res_gdf = gpd.GeoDataFrame(restaurant, geometry='geom', crs='epsg:4326')\n",
    "res_gdf_flat = res_gdf.to_crs('epsg:4326')\n",
    "res_gdf_flat['geom'] = res_gdf_flat.geometry.buffer(r_100)\n",
    "res_gdf = res_gdf_flat.to_crs('epsg:4326')\n",
    "\n",
    "res_u = res_gdf.iloc[0,2]\n",
    "for _, row in res_gdf.iterrows():\n",
    "    res_u = res_u.union(row['geom'])\n",
    "\n",
    "res_lats = np.array(res_gdf['위도'])\n",
    "res_lons = np.array(res_gdf['경도'])\n",
    "#############################################################\n",
    "bar = pd.read_csv('./data/conv_유흥주점.csv',\n",
    "                    encoding='cp949',\n",
    "                    sep=\",\")\n",
    "bar['geom'] = bar.apply(lambda r_100: Point(r_100['경도'], r_100['위도']), axis=1)\n",
    "bar_gdf = gpd.GeoDataFrame(bar, geometry='geom', crs='epsg:4326')\n",
    "bar_gdf_flat = bar_gdf.to_crs('epsg:4326')\n",
    "bar_gdf_flat['geom'] = bar_gdf_flat.geometry.buffer(r_100)\n",
    "bar_gdf = bar_gdf_flat.to_crs('epsg:4326')\n",
    "\n",
    "bar_u = bar_gdf.iloc[0,5]\n",
    "for _, row in bar_gdf.iterrows():\n",
    "    bar_u = bar_u.union(row['geom'])\n",
    "\n",
    "bar_lats = np.array(bar_gdf['위도'])\n",
    "bar_lons = np.array(bar_gdf['경도'])\n",
    "#############################################################"
   ]
  },
  {
   "cell_type": "code",
   "execution_count": null,
   "id": "4c8a2689",
   "metadata": {},
   "outputs": [],
   "source": [
    "r_aca = 10\n",
    "academy = pd.read_csv('./data/conv_academy.csv',\n",
    "                    encoding='cp949',\n",
    "                    sep=\",\")\n",
    "academy['geom'] = academy.apply(lambda r_aca: Point(r_aca['경도'], r_aca['위도']), axis=1)\n",
    "aca_gdf = gpd.GeoDataFrame(academy, geometry='geom', crs='epsg:4326')\n",
    "aca_gdf_flat = aca_gdf.to_crs('epsg:4326')\n",
    "aca_gdf_flat['geom'] = aca_gdf_flat.geometry.buffer(r_aca)\n",
    "aca_gdf = aca_gdf_flat.to_crs('epsg:4326')\n",
    "\n",
    "aca_u = aca_gdf.iloc[0,3]\n",
    "for _, row in aca_gdf.iterrows():\n",
    "    aca_u = aca_u.union(row['geom'])\n",
    "\n",
    "aca_lats = np.array(aca_gdf['위도'])\n",
    "aca_lons = np.array(aca_gdf['경도'])"
   ]
  },
  {
   "cell_type": "code",
   "execution_count": null,
   "id": "55552b7a",
   "metadata": {},
   "outputs": [],
   "source": [
    "m3_nlsp = nlsp.replace(to_replace = 'N/A', value = 0)\n",
    "m3_nlsp = m3_nlsp.astype({'lbl':float})"
   ]
  },
  {
   "cell_type": "code",
   "execution_count": null,
   "id": "0a403ccf",
   "metadata": {
    "scrolled": true
   },
   "outputs": [],
   "source": [
    "m3 = folium.Map([lat_c, lon_c], zoom_start = 13)\n",
    "values = []\n",
    "cnt = 0\n",
    "for _, row in m3_nlsp.iterrows():\n",
    "    value = (1-cal_area(row['geometry'], u)-cal_area(row['geometry'], ch_u)) * (row['lbl']) * ( 1 + 1.3 * cal_area(row['geometry'], res_u) + 1.8 *cal_area(row['geometry'], bar_u)) * ( 1 - 0.99* cal_area(row['geometry'], aca_u))\n",
    "    if value >= 0.0005:\n",
    "        cnt += 1\n",
    "    else:\n",
    "        value = 0\n",
    "    values.append(value)\n",
    "max_value = max(values)\n",
    "\n",
    "for i, row in m3_nlsp.iterrows():\n",
    "    value = values[i]\n",
    "    sim_geo = gpd.GeoSeries(row['geometry'])\n",
    "    geo_j = sim_geo.to_json()\n",
    "\n",
    "    color = plt.cm.Reds(value/max_value)\n",
    "    color = mpl.colors.to_hex(color)\n",
    "\n",
    "    if value == 0:\n",
    "        geo_j = folium.GeoJson(data=geo_j,\n",
    "                        style_function=lambda feature, color=color: {\n",
    "                                                                        'fillColor': color,\n",
    "                                                                        'color':\"black\",\n",
    "                                                                        'weight': 0.5,\n",
    "                                                                        'dashArray': '5, 5',\n",
    "                                                                        'fillOpacity': 0,\n",
    "                                                                    })\n",
    "    else:\n",
    "        geo_j = folium.GeoJson(data=geo_j,\n",
    "                        style_function=lambda feature, color=color: {\n",
    "                                                                        'fillColor': color,\n",
    "                                                                        'color':\"black\",\n",
    "                                                                        'weight': 0.5,\n",
    "                                                                        'dashArray': '5, 5',\n",
    "                                                                        'fillOpacity': 0.8,\n",
    "                                                                    })\n",
    "\n",
    "\n",
    "    folium.Popup(f'{value:.3f}').add_to(geo_j)\n",
    "    geo_j.add_to(m3)\n",
    "    \n",
    "colormap = branca.colormap.linear.Reds_05.scale(0, max_value)\n",
    "colormap = colormap.to_step(index=np.linspace(0, max_value, 1000))\n",
    "colormap.caption = 'Quantity demanded Area'\n",
    "colormap.add_to(m3)\n",
    "m3.save('./map/quantity_demanded_area.html')\n",
    "m3"
   ]
  },
  {
   "cell_type": "code",
   "execution_count": null,
   "id": "e05424ae",
   "metadata": {
    "scrolled": false
   },
   "outputs": [],
   "source": [
    "print(f'max_value : {max_value:.4f}')\n",
    "print(f'N_Grid(value>0) : {cnt}, N_Grid(All) : {len(m3_nlsp)}')\n",
    "print(f'Grid_Ratio : {cnt/len(m3_nlsp):.4f}')"
   ]
  },
  {
   "cell_type": "markdown",
   "id": "4e72cab1",
   "metadata": {},
   "source": [
    "# 2-2. MCLP\n",
    "- **M**aximal **C**overing **L**ocation **P**roblem\n",
    "\n",
    "- $\\mbox{Maximize} \\sum _{i\\in I}{w_iy_i}$\n",
    "-\n",
    "\n",
    "- Subject to\n",
    "    - $\\sum _{j\\in J}{x_j}=K$ : 배치되는 제설함의 최소개수 K\n",
    "    - $\\sum _{j\\in N_i}{x_j} \\ge y_i \\, \\forall i \\in I$\n",
    "- 변수\n",
    "    - $i$ : 수요 지점 index, $i \\in I$\n",
    "    - $j$ : 후보지 index, $j \\in J$\n",
    "    - $w_i$ : 수요량 (value)\n",
    "    - $S$ : 최대 서비스 거리 (208m)\n",
    "    - $K$ : 설치할 제설함의 수\n",
    "    - $d_{ij}$ : 수요 지점 $i$로부터 후보지 $j$까지의 거리\n",
    "    - $N_i=\\{j|d_{ij} \\le S \\}$ : 수요 지점 $i$로부터 서비스 거리 $S$ 안에 있는 후보지의 집합\n",
    "    - $x_i = \\begin{cases} 1, & \\text{제설함이 후보지 }j\\text{에 입점하면} \\\\\n",
    "    0, & \\mbox{otherwise} \\end{cases}$\n",
    "    - $y_j = \\begin{cases} 1, & \\text{수요 지점 }i\\text{가 적어도 하나의 제설함에 의해 서비스되면} \\\\\n",
    "    0, & \\mbox{otherwise} \\end{cases}$"
   ]
  },
  {
   "cell_type": "code",
   "execution_count": null,
   "id": "6d8d0caf",
   "metadata": {
    "scrolled": true
   },
   "outputs": [],
   "source": [
    "m3_nlsp['weight'] = values"
   ]
  },
  {
   "cell_type": "code",
   "execution_count": null,
   "id": "cf9a89c7",
   "metadata": {
    "scrolled": false
   },
   "outputs": [],
   "source": [
    "m3_nlsp['geo'] = nlsp['geometry'].to_crs(epsg=5179)\n",
    "m3_nlsp.head()"
   ]
  },
  {
   "cell_type": "code",
   "execution_count": null,
   "id": "48a2408c",
   "metadata": {},
   "outputs": [],
   "source": [
    "def generate_candidate_sites(df):\n",
    "    sites = []\n",
    "    for _, row in df.iterrows():\n",
    "        sites.append([row['geo'].centroid.coords[0][0], row['geo'].centroid.coords[0][1]])\n",
    "    return np.array(sites)\n",
    "\n",
    "\n",
    "def generate_candidate_sites(df, M):\n",
    "    sites = []\n",
    "    df_sorted = df.sort_values(by='weight', ascending=False)\n",
    "    for _, row in df_sorted[:M].iterrows():\n",
    "        sites.append([row['geo'].centroid.coords[0][0], row['geo'].centroid.coords[0][1]])\n",
    "    return np.array(sites)"
   ]
  },
  {
   "cell_type": "code",
   "execution_count": null,
   "id": "f86012fb",
   "metadata": {},
   "outputs": [],
   "source": [
    "from mip import Model, xsum, maximize, BINARY\n",
    "from scipy.spatial import distance_matrix\n",
    "import time\n",
    "from gurobipy import *\n",
    "\n",
    "def mclp(df, K, M, radius):\n",
    "    start = time.time()\n",
    "    sites = generate_candidate_sites(df, M)\n",
    "    I = J = sites.shape[0]\n",
    "    D = distance_matrix(sites, sites)\n",
    "    mask1 = D <= radius\n",
    "    D[mask1] = 1\n",
    "    D[~mask1] = 0\n",
    "\n",
    "    m = Model()\n",
    "\n",
    "    x = {}\n",
    "    y = {}\n",
    "    \n",
    "    for i in range(I):\n",
    "        y[i] = m.addVar(vtype=GRB.BINARY, name=f\"y{i}\")\n",
    "    for j in range(J):\n",
    "        x[j] = m.addVar(vtype=GRB.BINARY, name=f\"x{j}\")\n",
    "\n",
    "    m.update()\n",
    "    \n",
    "    # 제약식 추가\n",
    "    m.addConstr(quicksum(x[j] for j in range(J)) == K)\n",
    "\n",
    "    for i in range(I):\n",
    "        m.addConstr(quicksum(x[j] for j in np.where(D[i]==1)[0]) >= y[i])\n",
    "\n",
    "    m.setObjective(quicksum(y[i]for i in range(I)),GRB.MAXIMIZE)\n",
    "    m.setParam('OutputFlag', 0)\n",
    "    m.optimize()\n",
    "    end = time.time()\n",
    "    \n",
    "    solution = []\n",
    "    if m.status == GRB.Status.OPTIMAL:\n",
    "        for v in m.getVars():\n",
    "            if v.x==1 and v.varName[0]==\"x\":\n",
    "                solution.append(int(v.varName[1:]))\n",
    "    opt_sites = sites[solution]\n",
    "    return opt_sites, m.objVal"
   ]
  },
  {
   "cell_type": "code",
   "execution_count": null,
   "id": "89af65fd",
   "metadata": {},
   "outputs": [],
   "source": [
    "radius = 166\n",
    "K = 80\n",
    "M = cnt\n",
    "opt_sites_org, f = mclp(m3_nlsp, K, M, radius)\n",
    "print('커버되는 수요 지점의 개수 : {}'.format(f))"
   ]
  },
  {
   "cell_type": "code",
   "execution_count": null,
   "id": "8ad309f6",
   "metadata": {},
   "outputs": [],
   "source": [
    "opt_df= pd.DataFrame(opt_sites_org, columns=['lon', 'lat'])\n",
    "opt_df['geom'] = opt_df.apply(lambda r: Point(r['lon'], r['lat']), axis=1)\n",
    "gdf = gpd.GeoDataFrame(opt_df, geometry='geom', crs='epsg:5179')\n",
    "gdf = gdf.to_crs(epsg=4329)\n",
    "gdf['lon'] = gdf['geom'].apply(lambda p:p.x)\n",
    "gdf['lat'] = gdf['geom'].apply(lambda p:p.y)\n",
    "gdf"
   ]
  },
  {
   "cell_type": "code",
   "execution_count": null,
   "id": "a55767bf",
   "metadata": {},
   "outputs": [],
   "source": [
    "lats = gdf['lat']\n",
    "lons = gdf['lon']"
   ]
  },
  {
   "cell_type": "code",
   "execution_count": null,
   "id": "cf654ebb",
   "metadata": {
    "scrolled": true
   },
   "outputs": [],
   "source": [
    "m4 = m3\n",
    "for lat, lon in zip(lats, lons):\n",
    "    folium.Circle(location = [lat, lon], radius = radius, color='black', fill_color = 'blue', weight=1).add_to(m4)\n",
    "m4.save('./map/2nd.html')\n",
    "m4"
   ]
  },
  {
   "cell_type": "code",
   "execution_count": null,
   "id": "6f828c42",
   "metadata": {
    "scrolled": true
   },
   "outputs": [],
   "source": [
    "radius = 166\n",
    "M = cnt\n",
    "K = 80\n",
    "l = len(m3_nlsp)\n",
    "\n",
    "new_df = pd.DataFrame(data={'K':[0], 'max_value':[np.round(max_value, 4)], 'mean_value':[np.mean(m3_nlsp['weight'])],\n",
    "                            'N_Grid(value>0)':cnt, 'Grid_Ratio':np.round(cnt/l,4)})\n",
    "new_df['K'] = new_df['K'].astype(int)\n",
    "while True:\n",
    "    K += 1\n",
    "    opt_sites_org, f = mclp(m3_nlsp, K, M, radius)\n",
    "    \n",
    "    opt_df= pd.DataFrame(opt_sites_org, columns=['lon', 'lat'])\n",
    "    opt_df['geom'] = opt_df.apply(lambda row: Point(row['lon'], row['lat']), axis=1)\n",
    "    gdf = gpd.GeoDataFrame(opt_df, geometry='geom', crs='epsg:5179')\n",
    "    gdf = gdf.to_crs('epsg:4326')\n",
    "    gdf['lon'] = gdf['geom'].apply(lambda p:p.x)\n",
    "    gdf['lat'] = gdf['geom'].apply(lambda p:p.y)\n",
    "    lats = gdf['lat']\n",
    "    lons = gdf['lon']\n",
    "    opt_df = gpd.GeoDataFrame(opt_df, geometry='geom', crs='epsg:5179')\n",
    "    opt_df['geometry'] = opt_df.geom.buffer(r)\n",
    "    gdf = opt_df.to_crs('epsg:4326')\n",
    "\n",
    "    values = []\n",
    "    for _, row in m3_nlsp.iterrows():\n",
    "        value = (1-cal_area(row['geometry'], u)) * row['weight']\n",
    "        if value < 16:\n",
    "            value = 0\n",
    "        values.append(value)\n",
    "    max_value = max(values)\n",
    "    \n",
    "    tmp_df = pd.DataFrame({'K':[int(K)], 'max_value':[np.round(max_value, 4)], 'mean_value':[np.mean(values)],\n",
    "                        'N_Grid(value>0)':[cnt-f], 'Grid_Ratio':[np.round((cnt-f)/l,4)]},\n",
    "                         index=[K])\n",
    "    new_df = pd.concat([new_df, tmp_df])\n",
    "\n",
    "    if f == M:\n",
    "        break\n",
    "\n",
    "print(f'최소 {K}개의 흡연부스로 모든 취약 지점을 커버할 수 있다.')\n",
    "new_df"
   ]
  },
  {
   "cell_type": "code",
   "execution_count": null,
   "id": "2e804071",
   "metadata": {
    "scrolled": true
   },
   "outputs": [],
   "source": [
    "m5 = folium.Map([lat_c, lon_c], zoom_start = 13)\n",
    "values = m3_nlsp['weight']\n",
    "max_value = max(values)\n",
    "for i, row in m3_nlsp.iterrows():\n",
    "    value = values[i]\n",
    "    sim_geo = gpd.GeoSeries(row['geometry'])\n",
    "    geo_j = sim_geo.to_json()\n",
    "\n",
    "    color = plt.cm.Reds(value/max_value)\n",
    "    color = mpl.colors.to_hex(color)\n",
    "\n",
    "    if value == 0:\n",
    "        geo_j = folium.GeoJson(data=geo_j,\n",
    "                        style_function=lambda feature, color=color: {\n",
    "                                                                        'fillColor': color,\n",
    "                                                                        'color':\"black\",\n",
    "                                                                        'weight': 0.5,\n",
    "                                                                        'dashArray': '5, 5',\n",
    "                                                                        'fillOpacity': 0,\n",
    "                                                                    })\n",
    "    else:\n",
    "        geo_j = folium.GeoJson(data=geo_j,\n",
    "                        style_function=lambda feature, color=color: {\n",
    "                                                                        'fillColor': color,\n",
    "                                                                        'color':\"black\",\n",
    "                                                                        'weight': 0.5,\n",
    "                                                                        'dashArray': '5, 5',\n",
    "                                                                        'fillOpacity': 0.8,\n",
    "                                                                    })\n",
    "\n",
    "\n",
    "    folium.Popup(f'{value:.3f}').add_to(geo_j)\n",
    "    geo_j.add_to(m5)\n",
    "colormap = branca.colormap.linear.Reds_05.scale(0, max_value)\n",
    "colormap = colormap.to_step(index=np.linspace(0, max_value, 1000))\n",
    "colormap.caption = 'lbl × Area Ratio not covered by jae-seor-ham'\n",
    "colormap.add_to(m5)\n",
    "for lat, lon in zip(lats, lons):\n",
    "    folium.Circle(location = [lat, lon], radius = radius, color='black', fill_color = 'blue', weight=1).add_to(m5)\n",
    "m5.save('./map/final.html')\n",
    "m5"
   ]
  }
 ],
 "metadata": {
  "kernelspec": {
   "display_name": "Python 3",
   "language": "python",
   "name": "python3"
  },
  "language_info": {
   "codemirror_mode": {
    "name": "ipython",
    "version": 3
   },
   "file_extension": ".py",
   "mimetype": "text/x-python",
   "name": "python",
   "nbconvert_exporter": "python",
   "pygments_lexer": "ipython3",
   "version": "3.8.6"
  },
  "toc": {
   "base_numbering": 1,
   "nav_menu": {},
   "number_sections": false,
   "sideBar": true,
   "skip_h1_title": false,
   "title_cell": "Table of Contents",
   "title_sidebar": "Contents",
   "toc_cell": false,
   "toc_position": {},
   "toc_section_display": true,
   "toc_window_display": false
  }
 },
 "nbformat": 4,
 "nbformat_minor": 5
}
