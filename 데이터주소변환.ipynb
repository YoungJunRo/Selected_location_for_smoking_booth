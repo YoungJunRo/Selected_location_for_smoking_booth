{
 "cells": [
  {
   "cell_type": "code",
   "execution_count": null,
   "metadata": {},
   "outputs": [],
   "source": [
    "import pandas as pd\n",
    "from geopy.geocoders import Nominatim"
   ]
  },
  {
   "cell_type": "code",
   "execution_count": null,
   "metadata": {},
   "outputs": [],
   "source": [
    "#csv = pd.read_csv('./data/seoul_smoke_point.csv',encoding='cp949')\n",
    "csv = pd.read_csv('./data/강동구_학원.csv',encoding='utf-8')\n",
    "print(csv.head())"
   ]
  },
  {
   "cell_type": "code",
   "execution_count": null,
   "metadata": {},
   "outputs": [],
   "source": [
    "#address= csv['흡연구역']\n",
    "address= csv['도로명주소']\n",
    "print(address.head())"
   ]
  },
  {
   "cell_type": "code",
   "execution_count": null,
   "metadata": {},
   "outputs": [],
   "source": [
    "for i in range(len(address)):\n",
    "    a = address[i].split(' ')\n",
    "    address[i] = \" \".join(a[0:4])\n",
    "print(address)"
   ]
  },
  {
   "cell_type": "code",
   "execution_count": null,
   "metadata": {},
   "outputs": [],
   "source": [
    "geo_local = Nominatim(user_agent='South Korea')\n",
    "def geocoding(address):\n",
    "    geo = geo_local.geocode(address)\n",
    "    x_y = [geo.latitude, geo.longitude]\n",
    "    return x_y\n"
   ]
  },
  {
   "cell_type": "code",
   "execution_count": null,
   "metadata": {},
   "outputs": [],
   "source": [
    "latitude = []\n",
    "longitude =[]\n",
    "\n",
    "for i in address:\n",
    "    try:\n",
    "        latitude.append(geocoding(i)[0])\n",
    "        longitude.append(geocoding(i)[1])\n",
    "    except:\n",
    "        latitude.append('err')\n",
    "        longitude.append('err')"
   ]
  },
  {
   "cell_type": "code",
   "execution_count": null,
   "metadata": {},
   "outputs": [],
   "source": [
    "address_df = pd.DataFrame({'주소':address,'위도':latitude,'경도':longitude})\n",
    "\n",
    "#address_df.to_csv('./data/conv_seoul_smoke_point.csv', encoding='cp949')\n",
    "address_df.to_csv('./data/conv_academy.csv', encoding='cp949')"
   ]
  }
 ],
 "metadata": {
  "interpreter": {
   "hash": "004de6046f1b3d314f33fdb43a2dc798b2646e5600efd8df5066c8b63a00ff6d"
  },
  "kernelspec": {
   "display_name": "Python 3.8.6 64-bit",
   "language": "python",
   "name": "python3"
  },
  "language_info": {
   "codemirror_mode": {
    "name": "ipython",
    "version": 3
   },
   "file_extension": ".py",
   "mimetype": "text/x-python",
   "name": "python",
   "nbconvert_exporter": "python",
   "pygments_lexer": "ipython3",
   "version": "3.8.6"
  },
  "orig_nbformat": 4
 },
 "nbformat": 4,
 "nbformat_minor": 2
}
